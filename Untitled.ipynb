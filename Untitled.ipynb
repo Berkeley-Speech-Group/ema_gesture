{
 "cells": [
  {
   "cell_type": "code",
   "execution_count": 3,
   "id": "8fd45ebe-db48-46e4-ac4a-e6d852fbdb76",
   "metadata": {},
   "outputs": [
    {
     "name": "stdout",
     "output_type": "stream",
     "text": [
      "used 100 iterations (1.5482s) to cluster 200000 items into 40 clusters\n",
      "tensor([24, 24, 24,  ...,  3, 24, 24], device='cuda:0')\n"
     ]
    }
   ],
   "source": [
    "from fast_pytorch_kmeans import KMeans\n",
    "import torch\n",
    "\n",
    "kmeans = KMeans(n_clusters=40, mode='euclidean', verbose=1, minibatch=1024)\n",
    "x = torch.randn(200000, 10000, device='cuda')\n",
    "labels = kmeans.fit_predict(x)\n",
    "print(labels)"
   ]
  },
  {
   "cell_type": "code",
   "execution_count": 3,
   "id": "72414112-a436-4dc3-9e60-5b1f3cfacde3",
   "metadata": {},
   "outputs": [
    {
     "data": {
      "text/plain": [
       "array([1, 3, 4])"
      ]
     },
     "execution_count": 3,
     "metadata": {},
     "output_type": "execute_result"
    }
   ],
   "source": [
    "import numpy as np\n",
    "a = np.array([1,2,3,4])\n",
    "_id = [0,2,3]\n",
    "a[_id]"
   ]
  },
  {
   "cell_type": "code",
   "execution_count": null,
   "id": "517a35b1-aa33-4d34-a341-ff5e9432afd5",
   "metadata": {},
   "outputs": [],
   "source": [
    "Part I: 70 vertices; counter-clockwise\n",
    "1: epiglottis; 10 vertices\n",
    "2: tongue; 20 vertices\n",
    "3: lower teeth/mandible; 5 vertices\n",
    "4: lower lip; 10 vertices\n",
    "5: chin; 15 vertices\n",
    "6: neck; 10 vertices\n",
    "Part II: 40 vertices; clockwise\n",
    "1: arytenoid; 10 vertices\n",
    "2: pharynx; 10 vertices\n",
    "3: back; 15 vertices\n",
    "4: trachea; 5 vertices\n",
    "（不过peter发现有几个track file的part II有60个vertices）\n",
    "Part III: 60 vertices; counter-clockwise\n",
    "1: hard palate; 10 vertices\n",
    "2: velum; 15 vertices\n",
    "3: nasal cavity; 15 vertices\n",
    "4: nose; 10 vertices\n",
    "5: upper lip; 10 vertices"
   ]
  }
 ],
 "metadata": {
  "kernelspec": {
   "display_name": "Python 3 (ipykernel)",
   "language": "python",
   "name": "python3"
  },
  "language_info": {
   "codemirror_mode": {
    "name": "ipython",
    "version": 3
   },
   "file_extension": ".py",
   "mimetype": "text/x-python",
   "name": "python",
   "nbconvert_exporter": "python",
   "pygments_lexer": "ipython3",
   "version": "3.9.7"
  }
 },
 "nbformat": 4,
 "nbformat_minor": 5
}
