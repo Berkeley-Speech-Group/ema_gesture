{
 "cells": [
  {
   "cell_type": "code",
   "execution_count": 3,
   "id": "8fd45ebe-db48-46e4-ac4a-e6d852fbdb76",
   "metadata": {},
   "outputs": [
    {
     "name": "stdout",
     "output_type": "stream",
     "text": [
      "used 100 iterations (1.5482s) to cluster 200000 items into 40 clusters\n",
      "tensor([24, 24, 24,  ...,  3, 24, 24], device='cuda:0')\n"
     ]
    }
   ],
   "source": [
    "from fast_pytorch_kmeans import KMeans\n",
    "import torch\n",
    "\n",
    "kmeans = KMeans(n_clusters=40, mode='euclidean', verbose=1, minibatch=1024)\n",
    "x = torch.randn(200000, 10000, device='cuda')\n",
    "labels = kmeans.fit_predict(x)\n",
    "print(labels)"
   ]
  },
  {
   "cell_type": "code",
   "execution_count": null,
   "id": "72414112-a436-4dc3-9e60-5b1f3cfacde3",
   "metadata": {},
   "outputs": [],
   "source": []
  }
 ],
 "metadata": {
  "kernelspec": {
   "display_name": "Python 3",
   "language": "python",
   "name": "python3"
  },
  "language_info": {
   "codemirror_mode": {
    "name": "ipython",
    "version": 3
   },
   "file_extension": ".py",
   "mimetype": "text/x-python",
   "name": "python",
   "nbconvert_exporter": "python",
   "pygments_lexer": "ipython3",
   "version": "3.8.8"
  }
 },
 "nbformat": 4,
 "nbformat_minor": 5
}
