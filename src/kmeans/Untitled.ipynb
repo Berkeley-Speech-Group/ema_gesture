{
 "cells": [
  {
   "cell_type": "code",
   "execution_count": null,
   "id": "fe0cb7a9-f149-4bc8-8c44-84d47a8841c7",
   "metadata": {},
   "outputs": [],
   "source": [
    "import torch\n",
    "import torch.nn as nn\n",
    "import torch.nn.functional as F\n",
    "import numpy as np\n",
    "import os\n",
    "import random\n",
    "from kmeans_pytorch import kmeans\n",
    "from fast_pytorch_kmeans import KMeans as kmeans_fast\n",
    "from tqdm import tqdm\n",
    "import argparse\n",
    "\n",
    "\n",
    "\n"
   ]
  }
 ],
 "metadata": {
  "kernelspec": {
   "display_name": "Python 3",
   "language": "python",
   "name": "python3"
  },
  "language_info": {
   "codemirror_mode": {
    "name": "ipython",
    "version": 3
   },
   "file_extension": ".py",
   "mimetype": "text/x-python",
   "name": "python",
   "nbconvert_exporter": "python",
   "pygments_lexer": "ipython3",
   "version": "3.8.8"
  }
 },
 "nbformat": 4,
 "nbformat_minor": 5
}
